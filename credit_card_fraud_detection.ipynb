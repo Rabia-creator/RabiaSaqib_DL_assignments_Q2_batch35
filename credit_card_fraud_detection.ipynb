{
  "nbformat": 4,
  "nbformat_minor": 0,
  "metadata": {
    "colab": {
      "name": "credit card fraud detection.ipynb",
      "provenance": [],
      "authorship_tag": "ABX9TyMcBMKBqkr9gyqvXff43LjY",
      "include_colab_link": true
    },
    "kernelspec": {
      "name": "python3",
      "display_name": "Python 3"
    },
    "language_info": {
      "name": "python"
    },
    "accelerator": "TPU"
  },
  "cells": [
    {
      "cell_type": "markdown",
      "metadata": {
        "id": "view-in-github",
        "colab_type": "text"
      },
      "source": [
        "<a href=\"https://colab.research.google.com/github/Rabia-creator/RabiaSaqib_DL_assignments_Q2_batch35/blob/main/credit_card_fraud_detection.ipynb\" target=\"_parent\"><img src=\"https://colab.research.google.com/assets/colab-badge.svg\" alt=\"Open In Colab\"/></a>"
      ]
    },
    {
      "cell_type": "code",
      "metadata": {
        "colab": {
          "base_uri": "https://localhost:8080/"
        },
        "id": "0XUpcIrL1e_A",
        "outputId": "85c76b89-5eeb-4f2b-9680-531f49332b32"
      },
      "source": [
        "from google.colab import drive\n",
        "drive.mount('/content/drive')"
      ],
      "execution_count": 3,
      "outputs": [
        {
          "output_type": "stream",
          "text": [
            "Mounted at /content/drive\n"
          ],
          "name": "stdout"
        }
      ]
    },
    {
      "cell_type": "code",
      "metadata": {
        "id": "k3Df_bCTOK8r"
      },
      "source": [
        "import numpy as np\n",
        "import pandas as pd\n",
        "import tensorflow as tf\n",
        "import pathlib\n",
        "import matplotlib.pyplot as plt\n",
        "import seaborn as sns\n",
        "from scipy import stats\n",
        "from tensorflow.keras.models import Sequential\n",
        "from tensorflow.keras.layers import Dense, Dropout\n",
        "from tensorflow.keras import regularizers\n",
        "import tensorboard\n",
        "from pylab import rcParams"
      ],
      "execution_count": 4,
      "outputs": []
    },
    {
      "cell_type": "code",
      "metadata": {
        "colab": {
          "resources": {
            "http://localhost:8080/nbextensions/google.colab/files.js": {
              "data": "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",
              "ok": true,
              "headers": [
                [
                  "content-type",
                  "application/javascript"
                ]
              ],
              "status": 200,
              "status_text": ""
            }
          },
          "base_uri": "https://localhost:8080/",
          "height": 72
        },
        "id": "2PUbP1jfOK_s",
        "outputId": "a58ecb6c-d597-451e-bf73-1b59d5a5685a"
      },
      "source": [
        "from google.colab import files\n",
        "uploaded = files.upload()\n",
        "df=pd.read_csv(\"creditcard.csv\")"
      ],
      "execution_count": null,
      "outputs": [
        {
          "output_type": "display_data",
          "data": {
            "text/html": [
              "\n",
              "     <input type=\"file\" id=\"files-0c32ca13-21da-41ba-aab2-204aa8751419\" name=\"files[]\" multiple disabled\n",
              "        style=\"border:none\" />\n",
              "     <output id=\"result-0c32ca13-21da-41ba-aab2-204aa8751419\">\n",
              "      Upload widget is only available when the cell has been executed in the\n",
              "      current browser session. Please rerun this cell to enable.\n",
              "      </output>\n",
              "      <script src=\"/nbextensions/google.colab/files.js\"></script> "
            ],
            "text/plain": [
              "<IPython.core.display.HTML object>"
            ]
          },
          "metadata": {
            "tags": []
          }
        },
        {
          "output_type": "stream",
          "text": [
            "Saving creditcard.csv to creditcard.csv\n"
          ],
          "name": "stdout"
        }
      ]
    },
    {
      "cell_type": "code",
      "metadata": {
        "colab": {
          "base_uri": "https://localhost:8080/",
          "height": 163
        },
        "id": "3DZbNZuOOLJD",
        "outputId": "8dbbde8c-2d6b-49cf-843b-f55e1abd7895"
      },
      "source": [
        "df.head(10)"
      ],
      "execution_count": 1,
      "outputs": [
        {
          "output_type": "error",
          "ename": "NameError",
          "evalue": "ignored",
          "traceback": [
            "\u001b[0;31m---------------------------------------------------------------------------\u001b[0m",
            "\u001b[0;31mNameError\u001b[0m                                 Traceback (most recent call last)",
            "\u001b[0;32m<ipython-input-1-4a676c3d8c05>\u001b[0m in \u001b[0;36m<module>\u001b[0;34m()\u001b[0m\n\u001b[0;32m----> 1\u001b[0;31m \u001b[0mdf\u001b[0m\u001b[0;34m.\u001b[0m\u001b[0mhead\u001b[0m\u001b[0;34m(\u001b[0m\u001b[0;36m10\u001b[0m\u001b[0;34m)\u001b[0m\u001b[0;34m\u001b[0m\u001b[0;34m\u001b[0m\u001b[0m\n\u001b[0m",
            "\u001b[0;31mNameError\u001b[0m: name 'df' is not defined"
          ]
        }
      ]
    },
    {
      "cell_type": "code",
      "metadata": {
        "colab": {
          "base_uri": "https://localhost:8080/",
          "height": 163
        },
        "id": "j-Kaplb1OLLy",
        "outputId": "90ebf7ab-2fc0-4ecc-daed-bc25a68025f6"
      },
      "source": [
        "df.info()"
      ],
      "execution_count": 4,
      "outputs": [
        {
          "output_type": "error",
          "ename": "NameError",
          "evalue": "ignored",
          "traceback": [
            "\u001b[0;31m---------------------------------------------------------------------------\u001b[0m",
            "\u001b[0;31mNameError\u001b[0m                                 Traceback (most recent call last)",
            "\u001b[0;32m<ipython-input-4-a74c58233b9e>\u001b[0m in \u001b[0;36m<module>\u001b[0;34m()\u001b[0m\n\u001b[0;32m----> 1\u001b[0;31m \u001b[0mdf\u001b[0m\u001b[0;34m.\u001b[0m\u001b[0minfo\u001b[0m\u001b[0;34m(\u001b[0m\u001b[0;34m)\u001b[0m\u001b[0;34m\u001b[0m\u001b[0;34m\u001b[0m\u001b[0m\n\u001b[0m",
            "\u001b[0;31mNameError\u001b[0m: name 'df' is not defined"
          ]
        }
      ]
    },
    {
      "cell_type": "code",
      "metadata": {
        "colab": {
          "base_uri": "https://localhost:8080/",
          "height": 163
        },
        "id": "z6DwUYHAOLO6",
        "outputId": "dafcb3cd-e66d-489d-b303-11a980b014bd"
      },
      "source": [
        "df.describe()"
      ],
      "execution_count": 7,
      "outputs": [
        {
          "output_type": "error",
          "ename": "NameError",
          "evalue": "ignored",
          "traceback": [
            "\u001b[0;31m---------------------------------------------------------------------------\u001b[0m",
            "\u001b[0;31mNameError\u001b[0m                                 Traceback (most recent call last)",
            "\u001b[0;32m<ipython-input-7-ea8415b8a3ee>\u001b[0m in \u001b[0;36m<module>\u001b[0;34m()\u001b[0m\n\u001b[0;32m----> 1\u001b[0;31m \u001b[0mdf\u001b[0m\u001b[0;34m.\u001b[0m\u001b[0mdescribe\u001b[0m\u001b[0;34m(\u001b[0m\u001b[0;34m)\u001b[0m\u001b[0;34m\u001b[0m\u001b[0;34m\u001b[0m\u001b[0m\n\u001b[0m",
            "\u001b[0;31mNameError\u001b[0m: name 'df' is not defined"
          ]
        }
      ]
    },
    {
      "cell_type": "code",
      "metadata": {
        "id": "RtgHzAaJOLRy"
      },
      "source": [
        "#configuring module\n",
        "%matplotlib inline\n",
        "sns.set(style='whitegrid',palette='muted',font_scale=1.5)\n",
        "rcParams['figure.figsize'] = 14,8\n",
        "Random_Seed=42"
      ],
      "execution_count": null,
      "outputs": []
    },
    {
      "cell_type": "code",
      "metadata": {
        "id": "65XhAJZLOLUV"
      },
      "source": [
        "# renaming columns\n",
        "df.rename(columns={'class': \"Fraud\"},inplace=True)"
      ],
      "execution_count": null,
      "outputs": []
    },
    {
      "cell_type": "code",
      "metadata": {
        "id": "K-akd5ZFOLXS"
      },
      "source": [
        "df.shape"
      ],
      "execution_count": null,
      "outputs": []
    },
    {
      "cell_type": "code",
      "metadata": {
        "id": "gvxLg98aOLZ6"
      },
      "source": [
        "#checking null values\n",
        "df.isnull().sum()"
      ],
      "execution_count": null,
      "outputs": []
    },
    {
      "cell_type": "code",
      "metadata": {
        "id": "00Em1V0jishn"
      },
      "source": [
        "#checking correlations\n",
        "corr= df.corr()\n",
        "\n",
        "#generates a mask for upper triangle\n",
        " mask= np.zeros_like(corr, dtype=np.bool)\n",
        " mask[np.triu_indices_from(mask)] = True\n",
        "\n",
        "#figure size\n",
        "f,ax= plt.subplots(figsize=(20, 10))\n",
        "\n",
        "#generate a custom diverging colormap\n",
        "cmap= sns.diverging_palette(220,10, as_cmap=True)\n",
        "\n",
        "#draw the heatmap with the mask  and correct aspect ratio\n",
        "sns.heatmap(corr,mask=mask, cmap='CMRmap_r',vmax=.3, center=0,square=True,linewidths=.5,cbar_kws={'shrink':.5})"
      ],
      "execution_count": null,
      "outputs": []
    },
    {
      "cell_type": "code",
      "metadata": {
        "id": "H6nUDwXziskg"
      },
      "source": [
        "# Transaction class Distribution plot\n",
        "labels=['valid','Fraud']\n",
        "plt.figure(figsize =(10,10))\n",
        "count_classes=pd.value_counts(df['Fraud'],sort =True)\n",
        "count_classes.plot(kind='bar', rot=0, color ='red', alpha=0.5)\n",
        "plt.xticks(range(2), labels)\n",
        "plt.title(\"Transaction Class Distribution Graph\")\n",
        "plt.xlabel(\"Class\")\n",
        "plt.ylabel(\"Number of Observations\")\n",
        "plt.show()"
      ],
      "execution_count": null,
      "outputs": []
    },
    {
      "cell_type": "code",
      "metadata": {
        "id": "sh2TxP6oismt"
      },
      "source": [
        "len(df)\n"
      ],
      "execution_count": null,
      "outputs": []
    },
    {
      "cell_type": "code",
      "metadata": {
        "id": "-XnwI92zispO"
      },
      "source": [
        "len_fraud = len(df[df.Fraud == 1])\n",
        "len_fraud"
      ],
      "execution_count": null,
      "outputs": []
    },
    {
      "cell_type": "code",
      "metadata": {
        "id": "TuAGJl-fsLJ4"
      },
      "source": [
        "len_valid = 284807-492\n",
        "len_valid"
      ],
      "execution_count": null,
      "outputs": []
    },
    {
      "cell_type": "code",
      "metadata": {
        "id": "wQ8fWJqosLNg"
      },
      "source": [
        "perc_fraud=(len_fraud*100)/ len(df)\n",
        "perc_fraud"
      ],
      "execution_count": null,
      "outputs": []
    },
    {
      "cell_type": "code",
      "metadata": {
        "id": "e8WZZ-4asLTF"
      },
      "source": [
        "# making datafarames of valid and fraud transactions to check important stats\n",
        "Fraud_df = df[df.Fraud == 1]\n",
        "Valid_df = df[df.Fraud == 0]"
      ],
      "execution_count": null,
      "outputs": []
    },
    {
      "cell_type": "code",
      "metadata": {
        "id": "Bk2DunJPsLV9"
      },
      "source": [
        "# checking important stats of Amouont used  in Fraud Transactions\n",
        "Fraud_df.Amount.describe()"
      ],
      "execution_count": null,
      "outputs": []
    },
    {
      "cell_type": "code",
      "metadata": {
        "id": "K6vf7EoXsLYd"
      },
      "source": [
        "# Amount per transaction by class\n",
        "f,(ax1, ax2) = plt.subplots(2,1, sharex=True)\n",
        "f.suptitle('Amoount Per Transaction Graph')\n",
        "bins=50\n",
        "ax1.hist(Fraud_df.Amoount, bins=bins, color='blue')\n",
        "ax1.set_title('Fraud Transactions')\n",
        "\n",
        "ax2.hist(Valid_df.Amouont,bins=bins, color='red',alpha = 0.5)\n",
        "ax2.set_title('Valid Transactions')\n",
        "\n",
        "plt.xlabel('Amount($)')\n",
        "plt.ylabel('Number of Transaction')\n",
        "plt.xlim((0,20000))\n",
        "plt.yscale('log')\n",
        "plt.show()"
      ],
      "execution_count": null,
      "outputs": []
    },
    {
      "cell_type": "code",
      "metadata": {
        "id": "RIqQOtkSsLbX"
      },
      "source": [
        "#3 time of Transaction Vs amount by class\n",
        "f,(ax1,ax2)= plt.subplots(2,1,sharex = True)\n",
        "f.suptitle('time of Transactions Vs Amount of Transaction Graph')\n",
        "\n",
        "ax1.scatter(Fraud_df.Time, Fraud_df.Amount)\n",
        "ax1.set_title('Fraud Transactions')\n",
        "\n",
        "ax2.scatter(Valid_df.Time,Valid_df.Amount)\n",
        "ax2.set_title('Valid Transaction')\n",
        "\n",
        "plt.xlabel('Time (in seconds)')\n",
        "plt.ylabel('Amount')\n",
        "plt.show()"
      ],
      "execution_count": null,
      "outputs": []
    },
    {
      "cell_type": "code",
      "metadata": {
        "id": "1BTAyv3Misx9"
      },
      "source": [
        "# normalize data\n",
        "#we need to normalize 2 features (amount and time) \n",
        "from sklearn.preprocessing import StandardScaler\n",
        "df_norm=df\n",
        "df_norm['Time'] = StandardScaler().fit_transform(df_norm['time'].values.reshape(-1,1))\n",
        "df_norm['Amount'] = StandardScaler().fit_transform(df_norm['Amount'].values.reshape(-1,1))"
      ],
      "execution_count": null,
      "outputs": []
    },
    {
      "cell_type": "code",
      "metadata": {
        "id": "QJOJK3Rkis0h"
      },
      "source": [
        "# split dataset into training and testing\n",
        "#Train Data\n",
        "\n",
        "train_data=df_norm.iloc[:199365,:]\n",
        "train_data.shape"
      ],
      "execution_count": null,
      "outputs": []
    },
    {
      "cell_type": "code",
      "metadata": {
        "id": "vPd5nyYOis28"
      },
      "source": [
        "#test Data\n",
        "test_data=df_norm.iloc[199365:,:]\n",
        "test_data.shape"
      ],
      "execution_count": null,
      "outputs": []
    },
    {
      "cell_type": "code",
      "metadata": {
        "id": "Xns2TuVX8PxL"
      },
      "source": [
        "train_data.head()"
      ],
      "execution_count": null,
      "outputs": []
    },
    {
      "cell_type": "code",
      "metadata": {
        "id": "DnFhCP_E8P9N"
      },
      "source": [
        "test_data.head()"
      ],
      "execution_count": null,
      "outputs": []
    },
    {
      "cell_type": "code",
      "metadata": {
        "id": "xoc271S38QA3"
      },
      "source": [
        "# shuffle train data\n",
        "train_data=train_data.sample(frac=1)\n",
        "train_data.head()"
      ],
      "execution_count": null,
      "outputs": []
    },
    {
      "cell_type": "code",
      "metadata": {
        "id": "Oqzgv-vG8dd3"
      },
      "source": [
        "# shuffle test data\n",
        "test_data=test_data.sample(frac=1)\n",
        "test_data.head()"
      ],
      "execution_count": null,
      "outputs": []
    },
    {
      "cell_type": "code",
      "metadata": {
        "id": "NnKXws3q8djc"
      },
      "source": [
        "#dropping labels from training and testing data\n",
        "train_labels=train_data.pop('Fraud')\n",
        "# train_labels= train_labels.values\n",
        "\n",
        "test_labels= test_data.pop('Fraud')\n",
        "#test_labels=test_labels.values"
      ],
      "execution_count": null,
      "outputs": []
    },
    {
      "cell_type": "code",
      "metadata": {
        "id": "vQyS30j48dl2"
      },
      "source": [
        "train_labels"
      ],
      "execution_count": null,
      "outputs": []
    },
    {
      "cell_type": "code",
      "metadata": {
        "id": "LTwvnfWM8QER"
      },
      "source": [
        "test_labels"
      ],
      "execution_count": null,
      "outputs": []
    },
    {
      "cell_type": "code",
      "metadata": {
        "id": "vTRYCkGz8QHB"
      },
      "source": [
        "# building Base Model\n",
        "model=Sequential()\n",
        "model.add(Dense(10,activation='relu',input_shape = [len(train_data.keys())))\n",
        "model.add(Dense(8, activation='relu'))\n",
        "model.add(Dense(6,activation='relu'))\n",
        "model.add(Dense(1,activation='sigmoid'))\n",
        "model.compile(optimzer='adam', loss= 'binary_crossentropy',metrics=['accuracy'])\n",
        "model.summary()"
      ],
      "execution_count": null,
      "outputs": []
    },
    {
      "cell_type": "code",
      "metadata": {
        "id": "Wo3gtf3V9zU9"
      },
      "source": [
        "from keras.callbacks import ModelCheckpoint, Tensorboard\n",
        "checkpointer=ModelCheckpoint(filepath= \"CreditCardFraudDetectionModel.h5\" , verbose=0, save_best_only = True)\n",
        "tensorboard=Tensorboard(log_dir ='./logs',histogram_freq = 0, write_graph = True, write_images = True)"
      ],
      "execution_count": null,
      "outputs": []
    },
    {
      "cell_type": "code",
      "metadata": {
        "id": "pwOxBGfR9zX7"
      },
      "source": [
        "#fitting base model on 100 epochs\n",
        "history=model.fit(train_data,train_labels,epochs=100, batch_size=32, shuffle=True,validation_split=0.2, verbose= 1,call_backs=[checkpointer,tensorboard]).history"
      ],
      "execution_count": null,
      "outputs": []
    },
    {
      "cell_type": "code",
      "metadata": {
        "id": "gIZQ3C0c9zba"
      },
      "source": [
        "# storing history in a data frame\n",
        "history_df= pd.DAtaFrame(history)\n",
        "history_df.tail()"
      ],
      "execution_count": null,
      "outputs": []
    },
    {
      "cell_type": "code",
      "metadata": {
        "id": "2MtrIcd69zfA"
      },
      "source": [
        "#plotting loss and accuracy\n",
        "plt.plot(history_df['loss'])\n",
        "plt.plot(history_df['Accuracy'])\n",
        "plt.plot(history_df)['validation loss']\n",
        "plt.plot(history_df['validtion Accuracy'])\n",
        "plt.title('Model loss')\n",
        "plt.ylabel('Loss')\n",
        "plt.xlabel('Epoch')\n",
        "plt.legend(['Training_loss','Training_Accuracy,','valodation_loss','validation_Accuracy'],loc = 'upper right');"
      ],
      "execution_count": null,
      "outputs": []
    },
    {
      "cell_type": "code",
      "metadata": {
        "id": "kzod8qL2yocT"
      },
      "source": [
        "# making predictions on TestData\n",
        "predictions= model.predict(test_data)\n",
        "predictions= predictions.flatten()"
      ],
      "execution_count": null,
      "outputs": []
    },
    {
      "cell_type": "code",
      "metadata": {
        "id": "815nBmolysSp"
      },
      "source": [
        "predictions"
      ],
      "execution_count": null,
      "outputs": []
    },
    {
      "cell_type": "code",
      "metadata": {
        "id": "MD01pfcnzKvQ"
      },
      "source": [
        "#testing model on testing data\n",
        "testing= model.evaluate(test_data,test_labels)"
      ],
      "execution_count": null,
      "outputs": []
    },
    {
      "cell_type": "code",
      "metadata": {
        "id": "zKw5iQ2dzLY2"
      },
      "source": [
        "print(f\"Test Loss: {testing[0]}\")\n",
        "print(f\"Test Accuracy: {testing[1]}\")"
      ],
      "execution_count": null,
      "outputs": []
    },
    {
      "cell_type": "code",
      "metadata": {
        "id": "n0N7gNROzNWe"
      },
      "source": [
        "# plotting Confusion matrix\n",
        "from sklearn.metrics import confusion_matrix, classification_report\n",
        "\n",
        "#y_pred =model.predict(X_test)\n",
        "\n",
        "y_test = pd.DataFrame(testing)\n",
        "cm = confusion_matrix(test_labels,predictions.round())\n",
        "sns.heatmap(cm, annot=True,fmt='.Of' , cmap='cividis_r')\n",
        "plt.title(\"Confusion Matrix\")\n",
        "plt.show()"
      ],
      "execution_count": null,
      "outputs": []
    },
    {
      "cell_type": "code",
      "metadata": {
        "id": "xJCT7P-N1QE6"
      },
      "source": [
        "#building secong model for overcoming unbalanced data problem\n"
      ],
      "execution_count": null,
      "outputs": []
    },
    {
      "cell_type": "code",
      "metadata": {
        "id": "53H-kG3J1QKi"
      },
      "source": [
        "#standardizing the amount Feature\n",
        "df['NormAmount'] = StandardScaler().fit_transform(df['Amount'].values.reshape(-1,1))\n",
        "df = df.drop(['Time','Amount'], axis=1)"
      ],
      "execution_count": null,
      "outputs": []
    },
    {
      "cell_type": "code",
      "metadata": {
        "id": "sQwM8HWc2dfF"
      },
      "source": [
        "# SEparating test data\n",
        "X = df.iloc[:,df.columns != 'class']\n",
        "y=df.iloc[:,df.columns == 'Class']"
      ],
      "execution_count": null,
      "outputs": []
    },
    {
      "cell_type": "code",
      "metadata": {
        "id": "PrdxV9qe2diF"
      },
      "source": [
        "#importing SMOTE\n",
        "from imblearn.over_sampling import SMOTE\n",
        "np.random.seed(9)"
      ],
      "execution_count": null,
      "outputs": []
    },
    {
      "cell_type": "code",
      "metadata": {
        "id": "YqgjJyvy4-y-"
      },
      "source": [
        "## counting the number of fraud and valid transactions\n",
        "all_records = len(df)\n",
        "number_records_fraud=len(df[df.Class ==1])\n",
        "print(f\"No of transactions: {all_records} , Fraud transactions: {number_records_fraud}\")"
      ],
      "execution_count": null,
      "outputs": []
    },
    {
      "cell_type": "code",
      "metadata": {
        "id": "8o0XfnC_4-1T"
      },
      "source": [
        "#Applying SMOTE\n",
        "X_resample , y_resample =SMOTE().fit_sample(X,y.values.ravel())"
      ],
      "execution_count": null,
      "outputs": []
    },
    {
      "cell_type": "code",
      "metadata": {
        "id": "ut_XVFGU8f5p"
      },
      "source": [
        "#transforming in to pandas DataFrame\n",
        "y_resample = pd.DataFrame(y_resample)\n",
        "X_resample = pd.DataFrame(X_resample)"
      ],
      "execution_count": null,
      "outputs": []
    },
    {
      "cell_type": "code",
      "metadata": {
        "id": "oxha6HY38f9Q"
      },
      "source": [
        "#splitting the dataset into training and testing\n",
        "X_train,X_test,Y_train,Y_test = train_test_split(X_resample, y_resample, test_size=0.3, random_state=0)"
      ],
      "execution_count": null,
      "outputs": []
    },
    {
      "cell_type": "code",
      "metadata": {
        "id": "idD1F9vZ9Pnu"
      },
      "source": [
        "# making second model\n",
        "model2=Sequential()\n",
        "model2.add(Dense(16,kernal_initializer='uniform',activation='relu',input_shape=(29,)))\n",
        "model2.add(Dense(18,kernal_initializer='unifrom', activation='relu'))\n",
        "model2.add(Dropout(0.25))\n",
        "model2.add(Dense(20, kernal_initializer= 'uniform' ,activation='relu'))\n",
        "model2.add(Dense(24,kernal_initializer='uniform' , activation='relu'))\n",
        "model2.add(Dense(1, kernal_initializer='uniform',activation='sigmoid'))\n",
        "model2.summary()"
      ],
      "execution_count": null,
      "outputs": []
    },
    {
      "cell_type": "code",
      "metadata": {
        "id": "RG4QoyOx9QHm"
      },
      "source": [
        "#compilation step\n",
        "model2.compile(optimizer=\"adam\", loss='binary_crossentropy', metrics=['accuracy'])\n",
        "#fitting second model on 5 epochs\n",
        "model2.fit(np.array(X_train),np.array(Y_train),batch_size=15,epoch=5)"
      ],
      "execution_count": null,
      "outputs": []
    },
    {
      "cell_type": "code",
      "metadata": {
        "id": "63ZBAVMm1QPU"
      },
      "source": [
        ""
      ],
      "execution_count": null,
      "outputs": []
    },
    {
      "cell_type": "code",
      "metadata": {
        "id": "GZVlWGJA8QJ_"
      },
      "source": [
        "#testing second model on test data\n",
        "score= model2.evaluate(np.array(X_test),np.array(Y_test), batch_size=128)\n",
        "print('\\nTesting Score is: ', score[1]*100, '%')"
      ],
      "execution_count": null,
      "outputs": []
    },
    {
      "cell_type": "code",
      "metadata": {
        "id": "MLx7gkvBW4NJ"
      },
      "source": [
        "#defination function for confusion matrix\n",
        "\n",
        "import intertools\n",
        "import matplotlib.pyplot as plt\n",
        "from sklearn.metrics import confusion_matrix,precession_recall_curve,auc,roc_auc_score,roc_curve,recall_score,classification_report\n",
        "\n",
        "def plot_confusion_matrix(cm, classes,\n",
        "                          normalize=False,\n",
        "                          title='Confusion matrix'\n",
        "                          cmap=plt.cm.Blues):\n",
        "  ## this function prints and plots the confusion matrix. Normalization can be applied by setting  'normalize=True\n",
        "\n",
        "  plt.imshow(cm, interpolation= 'nearest' , cmap=cmap)\n",
        "  plt.title(title)\n",
        "  plt.colorbar()\n",
        "  tick_marks=np.arange(len(classes))\n",
        "  plot.xticks(tick_marks, classes , rotation=0)\n",
        "  plt.yticks(tick_marks, classes)\n",
        "\n",
        "  if normalize:\n",
        "    cm= cm.astype('float') / cm.sum(axis=1)[:, np.newaxis]\n",
        "    # print('Normalized confusion matrix')\n",
        "    else:\n",
        "      #1 print('confusion matrix ,without normalization')\n",
        "\n",
        "      # print(cm)\n",
        "\n",
        "      thresh = cm.max() / 2.\n",
        "      for  i , j in itertools.product(range(cm.shape[0]), range(cm.shape[1])):\n",
        "        plt.textj, i cm[i,j], horizontalalignment = 'center', color='white' if cm[i,j] > thresh else 'black')\n",
        "\n",
        "        plt.tight_layout()\n",
        "        plt.ylabel('True Label')\n",
        "        plt.xlabel('predicted Label')"
      ],
      "execution_count": null,
      "outputs": []
    },
    {
      "cell_type": "code",
      "metadata": {
        "id": "B0AgrERkW4QA"
      },
      "source": [
        "y_pred = model2.predict(np.array(X_test))"
      ],
      "execution_count": null,
      "outputs": []
    },
    {
      "cell_type": "code",
      "metadata": {
        "id": "Z-Mj_3glW4Uo"
      },
      "source": [
        "Y_test = pd.DataFrame(Y_test)\n",
        "Y_test.shape"
      ],
      "execution_count": null,
      "outputs": []
    },
    {
      "cell_type": "code",
      "metadata": {
        "id": "Yq-0RnuSW4XI"
      },
      "source": [
        "#plotting Confusion Matrix\n",
        "cnf_matrix = confusion_matrix(Y_test,y_pred.round())\n",
        "np.set_printoptions(precision=2)\n",
        "\n",
        "print(\"Recall metric in the testing dataset: \" , cnf_matrix[1,1]/(cnf_matrix[1,0]+cnf_matrix[1,1]))\n",
        "\n",
        "# plot non_normalized confusion matrix\n",
        "class_names = [0,1]\n",
        "plt.figure()\n",
        "plot_confusion_matrix(cnf_matrix,classes=class_names,title='Confusion matrix')\n",
        "plt.show()"
      ],
      "execution_count": null,
      "outputs": []
    },
    {
      "cell_type": "code",
      "metadata": {
        "id": "9YhLhWygW4bv"
      },
      "source": [
        "y_pred = model2.predict(np.array(X))"
      ],
      "execution_count": null,
      "outputs": []
    },
    {
      "cell_type": "code",
      "metadata": {
        "id": "saJPgk6Yv2Ok"
      },
      "source": [
        "# plotting  Confusion Matrix\n",
        "\n",
        "cnf_matrix= confusion_matrix(y,y_pred.round())\n",
        "np.set_printoptions(precision=2)\n",
        "\n",
        "print(\"recall metric in the testing dataset: \", cnf_matrix[1,1]/cnf_matrix[1,0]+cnf_matrix[1,1]))\n",
        "\n",
        "#plot non normalized confusion matrix\n",
        "class_names= [0,1]\n",
        "plt.figure()\n",
        "plot_confusion_matrix(cnf_matrix, classes=class_names ,title ='Confusion matrix')\n",
        "plt.show()"
      ],
      "execution_count": null,
      "outputs": []
    },
    {
      "cell_type": "code",
      "metadata": {
        "id": "MC0ImAJuv2Tc"
      },
      "source": [
        "#save model\n",
        "model2.save('CreditCardFraudDetectionModel.h5')"
      ],
      "execution_count": null,
      "outputs": []
    },
    {
      "cell_type": "code",
      "metadata": {
        "id": "MTQWSwfEv2YT"
      },
      "source": [
        ""
      ],
      "execution_count": null,
      "outputs": []
    },
    {
      "cell_type": "code",
      "metadata": {
        "id": "8hMN-y1bv2ah"
      },
      "source": [
        ""
      ],
      "execution_count": null,
      "outputs": []
    },
    {
      "cell_type": "code",
      "metadata": {
        "id": "xQte-ARPW4eV"
      },
      "source": [
        ""
      ],
      "execution_count": null,
      "outputs": []
    }
  ]
}